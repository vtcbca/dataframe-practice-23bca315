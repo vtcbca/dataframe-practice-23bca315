{
 "cells": [
  {
   "cell_type": "code",
   "execution_count": 1,
   "id": "0d254efc-3d43-462e-a8af-5644aceac7dc",
   "metadata": {},
   "outputs": [],
   "source": [
    "import csv"
   ]
  },
  {
   "cell_type": "markdown",
   "id": "ecc6dc3f-99fa-4f9c-8d12-30b7a6b81c54",
   "metadata": {},
   "source": [
    "# Define the header and records for the cricketers"
   ]
  },
  {
   "cell_type": "code",
   "execution_count": 3,
   "id": "ff7e528d-699d-4892-82d5-0a616b1c4765",
   "metadata": {},
   "outputs": [],
   "source": [
    "header = ['cid', 'cname', 'country', 'match', 'run']"
   ]
  },
  {
   "cell_type": "code",
   "execution_count": 4,
   "id": "d88c4ddb-2aa1-4922-8faa-d206a6261ae5",
   "metadata": {},
   "outputs": [],
   "source": [
    "cricketers = [\n",
    "    (1, 'Sachin Tendulkar', 'India', 463, 18426),\n",
    "    (2, 'Ricky Ponting', 'Australia', 460, 13704),\n",
    "    (3, 'Virat Kohli', 'India', 254, 13000),\n",
    "    (4, 'Brian Lara', 'West Indies', 299, 10405),\n",
    "    (5, 'Jacques Kallis', 'South Africa', 328, 11579),\n",
    "    (6, 'MS Dhoni', 'India', 350, 10773),\n",
    "    (7, 'AB de Villiers', 'South Africa', 228, 9577),\n",
    "    (8, 'Kumar Sangakkara', 'Sri Lanka', 404, 14234),\n",
    "    (9, 'Shane Warne', 'Australia', 194, 1001),  # Bowler with runs\n",
    "    (10, 'Virender Sehwag', 'India', 251, 8586),\n",
    "    (11, 'Mark Waugh', 'Australia', 244, 8500),\n",
    "    (12, 'Yuvraj Singh', 'India', 304, 8701),\n",
    "    (13, 'Inzamam-ul-Haq', 'Pakistan', 375, 11739),\n",
    "    (14, 'David Warner', 'Australia', 128, 6000),\n",
    "    (15, 'Rohit Sharma', 'India', 245, 9280)\n",
    "]"
   ]
  },
  {
   "cell_type": "markdown",
   "id": "9c6f1178-7983-4018-9405-d0ac4c746c4e",
   "metadata": {},
   "source": [
    "# Create a CSV file and write the records"
   ]
  },
  {
   "cell_type": "code",
   "execution_count": 6,
   "id": "fcb71bff-d167-4517-bda6-fc81af1eb1d6",
   "metadata": {},
   "outputs": [],
   "source": [
    "with open('cricketers.csv', mode='w', newline='') as file:\n",
    "    writer = csv.writer(file)\n",
    "    writer.writerow(header)  # Write the header\n",
    "    writer.writerows(cricketers)  # Write the records"
   ]
  },
  {
   "cell_type": "code",
   "execution_count": 7,
   "id": "9f2a1fa2-5afe-4222-9316-4075d5627508",
   "metadata": {},
   "outputs": [
    {
     "name": "stdout",
     "output_type": "stream",
     "text": [
      "CSV file 'cricketers.csv' created successfully!\n"
     ]
    }
   ],
   "source": [
    "print(\"CSV file 'cricketers.csv' created successfully!\")"
   ]
  },
  {
   "cell_type": "code",
   "execution_count": null,
   "id": "9cb3e1ae-07d5-498b-9106-f57de4ea8abd",
   "metadata": {},
   "outputs": [],
   "source": []
  }
 ],
 "metadata": {
  "kernelspec": {
   "display_name": "Python 3 (ipykernel)",
   "language": "python",
   "name": "python3"
  },
  "language_info": {
   "codemirror_mode": {
    "name": "ipython",
    "version": 3
   },
   "file_extension": ".py",
   "mimetype": "text/x-python",
   "name": "python",
   "nbconvert_exporter": "python",
   "pygments_lexer": "ipython3",
   "version": "3.12.4"
  }
 },
 "nbformat": 4,
 "nbformat_minor": 5
}
